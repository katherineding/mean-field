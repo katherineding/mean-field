{
 "cells": [
  {
   "cell_type": "code",
   "execution_count": 1,
   "metadata": {},
   "outputs": [],
   "source": [
    "import numpy as np\n",
    "from scipy import linalg as la\n",
    "from scipy.sparse import coo_matrix\n",
    "from scipy.sparse.linalg import eigsh\n",
    "import matplotlib.pyplot as plt"
   ]
  },
  {
   "cell_type": "code",
   "execution_count": 2,
   "metadata": {},
   "outputs": [],
   "source": [
    "FT_SIZE = 14;\n",
    "plt.rc('font', size=FT_SIZE)\n",
    "plt.rc('xtick',labelsize=FT_SIZE)\n",
    "plt.rc('ytick',labelsize=FT_SIZE)"
   ]
  },
  {
   "cell_type": "markdown",
   "metadata": {},
   "source": [
    "# MODEL: Hubbard-Mean-Field (NN & NNN) on 2D square lattice, periodic B.C., zero spin domain S_z = (nup-ndn)/2 = 0. \n",
    "# Assume up and down electrons behave the same way - no spin coupling Zeeman term\n",
    "# Assume all numbers are real"
   ]
  },
  {
   "cell_type": "code",
   "execution_count": 3,
   "metadata": {},
   "outputs": [],
   "source": [
    "def makeHpMatrix(Nx,Ny,t,tp,mu,density,sigma):\n",
    "    '''Generate kinetic matrix for 2D square Nx-by-Ny lattice, periodic bdy conditions.\n",
    "    Args:\n",
    "        t = NN hopping strength\n",
    "        tp = NNN hopping stength\n",
    "        mu = Chemical potential\n",
    "        Nx, Ny = Lattice dimensions\n",
    "    Returns:\n",
    "        A shape (N,N) float numpy array, N = Nx*Ny. '''\n",
    "\n",
    "    # Initialize vectors of row and column indices, matrix data\n",
    "    i,j = np.empty(0,dtype=int), np.empty(0,dtype=int)\n",
    "    data = np.empty(0,dtype=float);\n",
    "    \n",
    "    #Look at each lattice pt, find nearest neighbors\n",
    "    for y in range(Ny):\n",
    "        for x in range(Nx):\n",
    "            #total index n\n",
    "            n = x + Nx*y;\n",
    "            #neighbors, with periodic B.C.\n",
    "            neighbors = [((x+1) % Nx,y),((x-1) % Nx,y),(x,(y+1) % Ny),(x,(y-1) % Ny)]\n",
    "            next_neighbors = [((x+1) % Nx,(y+1) % Ny),((x-1) % Nx,(y+1) % Ny),\n",
    "                              ((x+1) % Nx,(y-1) % Ny),((x-1) % Nx,(y-1) % Ny)]\n",
    "            #get total indices of nearest neighbors\n",
    "            for pt in neighbors: \n",
    "                i = np.append(i,pt[0]+ Nx*pt[1]);\n",
    "            data = np.append(data,(-t)*np.ones(len(neighbors),dtype=float))\n",
    "            #get total indices of next-nearest neighbors\n",
    "            for pt in next_neighbors: \n",
    "                i = np.append(i,pt[0]+ Nx*pt[1]);\n",
    "            data = np.append(data,(-tp)*np.ones(len(next_neighbors),dtype=float))\n",
    "            #everything stays in n-th column\n",
    "            j = np.append(j,n*np.ones(len(neighbors)+len(next_neighbors),dtype=int))\n",
    "            \n",
    "            #chemical potential contribes only to diagonal elements\n",
    "            i = np.append(i,n);\n",
    "            j = np.append(j,n);\n",
    "            data = np.append(data,-mu + 0.5*U*(density[n]-sigma[n]))\n",
    "    \n",
    "    #Construction\n",
    "    matrix = coo_matrix((data, (i,j)),shape = (Nx*Ny,Nx*Ny))\n",
    "    return matrix"
   ]
  },
  {
   "cell_type": "code",
   "execution_count": 4,
   "metadata": {},
   "outputs": [],
   "source": [
    "def makeHmMatrix(Nx,Ny,t,tp,mu,density,sigma):\n",
    "    '''Generate kinetic matrix for 2D square Nx-by-Ny lattice, periodic bdy conditions.\n",
    "    Args:\n",
    "        t = NN hopping strength\n",
    "        tp = NNN hopping stength\n",
    "        mu = Chemical potential\n",
    "        Nx, Ny = Lattice dimensions\n",
    "    Returns:\n",
    "        A shape (N,N) float numpy array, N = Nx*Ny. '''\n",
    "\n",
    "    # Initialize vectors of row and column indices, matrix data\n",
    "    i,j = np.empty(0,dtype=int), np.empty(0,dtype=int)\n",
    "    data = np.empty(0,dtype=float);\n",
    "    \n",
    "    #Look at each lattice pt, find nearest neighbors\n",
    "    for y in range(Ny):\n",
    "        for x in range(Nx):\n",
    "            #total index n\n",
    "            n = x + Nx*y;\n",
    "            #neighbors, with periodic B.C.\n",
    "            neighbors = [((x+1) % Nx,y),((x-1) % Nx,y),(x,(y+1) % Ny),(x,(y-1) % Ny)]\n",
    "            next_neighbors = [((x+1) % Nx,(y+1) % Ny),((x-1) % Nx,(y+1) % Ny),\n",
    "                              ((x+1) % Nx,(y-1) % Ny),((x-1) % Nx,(y-1) % Ny)]\n",
    "            #get total indices of nearest neighbors\n",
    "            for pt in neighbors: \n",
    "                i = np.append(i,pt[0]+ Nx*pt[1]);\n",
    "            data = np.append(data,(-t)*np.ones(len(neighbors),dtype=float))\n",
    "            #get total indices of next-nearest neighbors\n",
    "            for pt in next_neighbors: \n",
    "                i = np.append(i,pt[0]+ Nx*pt[1]);\n",
    "            data = np.append(data,(-tp)*np.ones(len(next_neighbors),dtype=float))\n",
    "            #everything stays in n-th column\n",
    "            j = np.append(j,n*np.ones(len(neighbors)+len(next_neighbors),dtype=int))\n",
    "            \n",
    "            #chemical potential contribes only to diagonal elements\n",
    "            i = np.append(i,n);\n",
    "            j = np.append(j,n);\n",
    "            data = np.append(data,-mu + 0.5*U*(density[n]+sigma[n]))\n",
    "    \n",
    "    #Construction\n",
    "    matrix = coo_matrix((data, (i,j)),shape = (Nx*Ny,Nx*Ny))\n",
    "    return matrix"
   ]
  },
  {
   "cell_type": "code",
   "execution_count": 5,
   "metadata": {},
   "outputs": [],
   "source": [
    "def initDeltaMatrix(Nx,Ny,Vd):\n",
    "    # Initialize vectors of row and column indices, matrix data\n",
    "    i,j = np.empty(0,dtype=int), np.empty(0,dtype=int);\n",
    "    data = np.empty(0,dtype=float);\n",
    "    \n",
    "    #Look at each lattice pt, find nearest neighbors\n",
    "    for y in range(Ny):\n",
    "        for x in range(Nx):\n",
    "            #total index n\n",
    "            n = x + Nx*y;\n",
    "            #neighbors, with periodic B.C.\n",
    "            neighbors = [((x+1) % Nx,y),((x-1) % Nx,y),(x,(y+1) % Ny),(x,(y-1) % Ny)]\n",
    "            #get total indices of nearest neighbors\n",
    "            for pt in neighbors: \n",
    "                i = np.append(i,pt[0]+ Nx*pt[1]);\n",
    "            data = np.append(data,(-Vd)*np.ones(len(neighbors),dtype=float))\n",
    "            #get total indices of next-nearest neighbors\n",
    "            #everything stays in n-th column\n",
    "            j = np.append(j,n*np.ones(len(neighbors),dtype=int))\n",
    "    \n",
    "    #Construction\n",
    "    return coo_matrix((data, (i,j)),shape = (Nx*Ny,Nx*Ny)).toarray(),i,j"
   ]
  },
  {
   "cell_type": "code",
   "execution_count": 6,
   "metadata": {},
   "outputs": [],
   "source": [
    "def Build_H(Delta,n,sigma):\n",
    "    H = np.empty((2*N,2*N),dtype=float)\n",
    "    #(0,0) block\n",
    "    Hp = makeHpMatrix(Nx,Ny,t,tp,mu,n,sigma);\n",
    "    #(1,1) block\n",
    "    Hm = makeHmMatrix(Nx,Ny,t,tp,mu,n,sigma);\n",
    "    \n",
    "    #row1 = hstack((Hp,Delta));\n",
    "    #row2 = hstack((Delta.conj(),-Hm.conj()))\n",
    "    \n",
    "    #H = vstack((row1,row2))\n",
    "    \n",
    "    #set blocks of total hamiltonian matrix\n",
    "    H[:N,:N] = Hp.toarray()\n",
    "    H[N:,N:] = -Hm.toarray().conj();\n",
    "    H[:N,N:] = Delta;\n",
    "    H[N:,:N] = Delta.conj()\n",
    "    return H"
   ]
  },
  {
   "cell_type": "code",
   "execution_count": 7,
   "metadata": {},
   "outputs": [],
   "source": [
    "def Fermi_Dist(E,beta):\n",
    "    return 1/(1+np.exp(beta*E))"
   ]
  },
  {
   "cell_type": "code",
   "execution_count": 29,
   "metadata": {},
   "outputs": [
    {
     "data": {
      "text/plain": [
       "[<matplotlib.lines.Line2D at 0x7f189c12dcf8>]"
      ]
     },
     "execution_count": 29,
     "metadata": {},
     "output_type": "execute_result"
    },
    {
     "data": {
      "image/png": "[encoded data removed]",
      "text/plain": [
       "<Figure size 432x288 with 1 Axes>"
      ]
     },
     "metadata": {
      "needs_background": "light"
     },
     "output_type": "display_data"
    }
   ],
   "source": [
    "plt.plot(eigvals,Fermi_Dist(eigvals,beta),'.')"
   ]
  },
  {
   "cell_type": "code",
   "execution_count": 9,
   "metadata": {},
   "outputs": [],
   "source": [
    "def Make_Delta_ij(Vd, E, Umat, Vmat, beta):\n",
    "    '''Should we use this function to update delta?'''\n",
    "    assert 2*N == E.shape[0] #use all energies\n",
    "    assert Umat.shape == Vmat.shape == (N,2*N) #\n",
    "    energy_term = np.tanh(0.5*beta*E)\n",
    "    accum = np.zeros((N,N),dtype=float);\n",
    "    for n in range(N):\n",
    "        accum += (np.outer(Umat[:,n],Vmat[:,n])+\\\n",
    "                    np.outer(Vmat[:,n],Umat[:,n])) * energy_term[n] * Vd/4\n",
    "    return accum"
   ]
  },
  {
   "cell_type": "code",
   "execution_count": 10,
   "metadata": {},
   "outputs": [],
   "source": [
    "def Make_Nup(E,Umat):\n",
    "    return np.sum((Umat**2) * Fermi_Dist(E,beta),axis=1)"
   ]
  },
  {
   "cell_type": "code",
   "execution_count": 11,
   "metadata": {},
   "outputs": [],
   "source": [
    "def Make_Ndn(E,Vmat):\n",
    "    return np.sum((Vmat**2) * (1-Fermi_Dist(E,beta)),axis=1)"
   ]
  },
  {
   "cell_type": "code",
   "execution_count": 291,
   "metadata": {},
   "outputs": [],
   "source": [
    "t = 1 #NN hopping\n",
    "tp = -0.4*t #NNN hopping\n",
    "Vd = 1.34*t #attractive pairing interaction strength\n",
    "Nx = 8; #lattice size\n",
    "Ny = 16;\n",
    "N = Nx*Ny; #total number of lattice sites\n",
    "filling = 7/8 #hole doped\n",
    "U = 8; #onsite repulsion\n",
    "mu = 0.5*U*filling; #chemical potential\n",
    "beta = 10;"
   ]
  },
  {
   "cell_type": "code",
   "execution_count": 292,
   "metadata": {},
   "outputs": [
    {
     "name": "stdout",
     "output_type": "stream",
     "text": [
      "init <n> = [0.875 0.875 0.875 0.875 0.875 0.875 0.875 0.875 0.875 0.875 0.875 0.875\n",
      " 0.875 0.875 0.875 0.875 0.875 0.875 0.875 0.875 0.875 0.875 0.875 0.875\n",
      " 0.875 0.875 0.875 0.875 0.875 0.875 0.875 0.875 0.875 0.875 0.875 0.875\n",
      " 0.875 0.875 0.875 0.875 0.875 0.875 0.875 0.875 0.875 0.875 0.875 0.875\n",
      " 0.875 0.875 0.875 0.875 0.875 0.875 0.875 0.875 0.875 0.875 0.875 0.875\n",
      " 0.875 0.875 0.875 0.875 0.875 0.875 0.875 0.875 0.875 0.875 0.875 0.875\n",
      " 0.875 0.875 0.875 0.875 0.875 0.875 0.875 0.875 0.875 0.875 0.875 0.875\n",
      " 0.875 0.875 0.875 0.875 0.875 0.875 0.875 0.875 0.875 0.875 0.875 0.875\n",
      " 0.875 0.875 0.875 0.875 0.875 0.875 0.875 0.875 0.875 0.875 0.875 0.875\n",
      " 0.875 0.875 0.875 0.875 0.875 0.875 0.875 0.875 0.875 0.875 0.875 0.875\n",
      " 0.875 0.875 0.875 0.875 0.875 0.875 0.875 0.875]\n",
      "init <sigma> = [ 1.00000000e-01 -1.00000000e-01  1.00000000e-01 -1.00000000e-01\n",
      "  1.00000000e-01 -1.00000000e-01  1.00000000e-01 -1.00000000e-01\n",
      " -9.23879533e-02  9.23879533e-02 -9.23879533e-02  9.23879533e-02\n",
      " -9.23879533e-02  9.23879533e-02 -9.23879533e-02  9.23879533e-02\n",
      "  7.07106781e-02 -7.07106781e-02  7.07106781e-02 -7.07106781e-02\n",
      "  7.07106781e-02 -7.07106781e-02  7.07106781e-02 -7.07106781e-02\n",
      " -3.82683432e-02  3.82683432e-02 -3.82683432e-02  3.82683432e-02\n",
      " -3.82683432e-02  3.82683432e-02 -3.82683432e-02  3.82683432e-02\n",
      "  6.12323400e-18 -6.12323400e-18  6.12323400e-18 -6.12323400e-18\n",
      "  6.12323400e-18 -6.12323400e-18  6.12323400e-18 -6.12323400e-18\n",
      "  3.82683432e-02 -3.82683432e-02  3.82683432e-02 -3.82683432e-02\n",
      "  3.82683432e-02 -3.82683432e-02  3.82683432e-02 -3.82683432e-02\n",
      " -7.07106781e-02  7.07106781e-02 -7.07106781e-02  7.07106781e-02\n",
      " -7.07106781e-02  7.07106781e-02 -7.07106781e-02  7.07106781e-02\n",
      "  9.23879533e-02 -9.23879533e-02  9.23879533e-02 -9.23879533e-02\n",
      "  9.23879533e-02 -9.23879533e-02  9.23879533e-02 -9.23879533e-02\n",
      " -1.00000000e-01  1.00000000e-01 -1.00000000e-01  1.00000000e-01\n",
      " -1.00000000e-01  1.00000000e-01 -1.00000000e-01  1.00000000e-01\n",
      "  9.23879533e-02 -9.23879533e-02  9.23879533e-02 -9.23879533e-02\n",
      "  9.23879533e-02 -9.23879533e-02  9.23879533e-02 -9.23879533e-02\n",
      " -7.07106781e-02  7.07106781e-02 -7.07106781e-02  7.07106781e-02\n",
      " -7.07106781e-02  7.07106781e-02 -7.07106781e-02  7.07106781e-02\n",
      "  3.82683432e-02 -3.82683432e-02  3.82683432e-02 -3.82683432e-02\n",
      "  3.82683432e-02 -3.82683432e-02  3.82683432e-02 -3.82683432e-02\n",
      " -1.83697020e-17  1.83697020e-17 -1.83697020e-17  1.83697020e-17\n",
      " -1.83697020e-17  1.83697020e-17 -1.83697020e-17  1.83697020e-17\n",
      " -3.82683432e-02  3.82683432e-02 -3.82683432e-02  3.82683432e-02\n",
      " -3.82683432e-02  3.82683432e-02 -3.82683432e-02  3.82683432e-02\n",
      "  7.07106781e-02 -7.07106781e-02  7.07106781e-02 -7.07106781e-02\n",
      "  7.07106781e-02 -7.07106781e-02  7.07106781e-02 -7.07106781e-02\n",
      " -9.23879533e-02  9.23879533e-02 -9.23879533e-02  9.23879533e-02\n",
      " -9.23879533e-02  9.23879533e-02 -9.23879533e-02  9.23879533e-02]\n"
     ]
    }
   ],
   "source": [
    "#initialize parameters\n",
    "sigma = np.zeros(N,dtype=float)\n",
    "n = np.zeros(N,dtype=float) \n",
    "for x in range(Nx):\n",
    "    for y in range(Ny):\n",
    "        #total index n\n",
    "        ntotal = x + Nx*y;\n",
    "        n[ntotal] = filling\n",
    "        sigma[ntotal] = 0.1*np.cos(np.pi*y/8)*(-1)**(x+y)\n",
    "\n",
    "\n",
    "Delta,ilist,jlist = initDeltaMatrix(Nx,Ny,Vd)\n",
    "H = Build_H(Delta,n,sigma) \n",
    "\n",
    "#note sure how to handle delta matrix\n",
    "#plt.figure();\n",
    "#plt.imshow(Delta);\n",
    "#plt.title('init Delta matrix');plt.colorbar()\n",
    "\n",
    "print(f'init <n> = {n}')\n",
    "print(f'init <sigma> = {sigma}')\n",
    "#plt.figure();\n",
    "\n",
    "#Hamiltonian\n",
    "#plt.figure();\n",
    "#plt.imshow(H);plt.colorbar()\n",
    "#plt.title(\"Init Hamiltonian\")\n",
    "#eigvals,eigvecs = la.eigh(H)\n",
    "#plt.figure();\n",
    "#plt.imshow(eigvecs)\n",
    "#plt.colorbar();\n",
    "#plt.title('init eigenvectors')"
   ]
  },
  {
   "cell_type": "code",
   "execution_count": 293,
   "metadata": {},
   "outputs": [
    {
     "name": "stdout",
     "output_type": "stream",
     "text": [
      "energy[0] -7.758861637596997 nup[0] 0.6556860523977461 ndn[0] 0.5283381346866559\n",
      "0.3128820673081041\n",
      "energy[0] -6.871687386696335 nup[0] 0.5732385617045559 ndn[0] 0.2573996639716098\n",
      "-0.3901034927013528\n",
      "energy[0] -5.421828725923662 nup[0] 0.8342649749040983 ndn[0] 0.2743946780655767\n",
      "0.43778155520411877\n",
      "energy[0] -7.3533505602744285 nup[0] 0.9021149722884996 ndn[0] 0.10199513623194119\n",
      "-0.4149322097671171\n",
      "energy[0] -6.815010618885083 nup[0] 0.93646446305145 ndn[0] 0.062408510013168085\n",
      "0.30438139581617374\n",
      "energy[0] -7.699922359012986 nup[0] 0.9445974351011268 ndn[0] 0.055293435364490245\n",
      "-0.25000926871412105\n",
      "energy[0] -7.246940346217614 nup[0] 0.9460511064323959 ndn[0] 0.0539416585821128\n",
      "0.24999991520490122\n",
      "energy[0] -8.153598208489626 nup[0] 0.9463119253835297 ndn[0] 0.053688549560282135\n",
      "-0.24999996233840044\n",
      "energy[0] -7.284172478448735 nup[0] 0.9463615816229145 ndn[0] 0.0536410165282966\n",
      "0.24999997777610966\n",
      "energy[0] -8.178157397409198 nup[0] 0.9463698542570054 ndn[0] 0.05362945470565859\n",
      "-0.2499999777803769\n",
      "energy[0] -7.28574228253272 nup[0] 0.9463737710338895 ndn[0] 0.05363092655053206\n",
      "0.24999997809080796\n",
      "energy[0] -8.178905806553754 nup[0] 0.9463720545963481 ndn[0] 0.05362715144665185\n",
      "-0.24999997809088476\n",
      "energy[0] -7.285797718356315 nup[0] 0.9463742580601197 ndn[0] 0.05363052416544777\n",
      "0.24999997809989138\n",
      "energy[0] -8.178928733599449 nup[0] 0.9463721445699844 ndn[0] 0.053627060000665715\n",
      "-0.24999997809989394\n",
      "energy[0] -7.285799614917979 nup[0] 0.9463742773955822 ndn[0] 0.05363050755405538\n",
      "0.249999978100166\n",
      "energy[0] -8.17892944275015 nup[0] 0.9463721481815845 ndn[0] 0.053627056395525015\n",
      "-0.24999997810016583\n",
      "energy[0] -7.285799678686644 nup[0] 0.9463742781431677 ndn[0] 0.05363050689104381\n",
      "0.2499999781001741\n",
      "energy[0] -8.17892946481727 nup[0] 0.9463721483207251 ndn[0] 0.05362705625746014\n",
      "-0.24999997810017424\n",
      "energy[0] -7.285799680804871 nup[0] 0.9463742781711029 ndn[0] 0.05363050686571872\n",
      "0.24999997810017444\n",
      "energy[0] -8.178929465506766 nup[0] 0.9463721483259055 ndn[0] 0.053627056252348586\n",
      "-0.24999997810017427\n",
      "energy[0] -7.285799680874597 nup[0] 0.9463742781721147 ndn[0] 0.053630506864784315\n",
      "0.24999997810017452\n",
      "energy[0] -8.178929465528388 nup[0] 0.9463721483260735 ndn[0] 0.05362705625216488\n",
      "-0.2499999781001745\n",
      "energy[0] -7.2857996808768775 nup[0] 0.9463742781721499 ndn[0] 0.05363050686475147\n",
      "0.24999997810017416\n",
      "energy[0] -8.178929465529059 nup[0] 0.9463721483260671 ndn[0] 0.053627056252158016\n",
      "-0.24999997810017413\n",
      "energy[0] -7.28579968087695 nup[0] 0.9463742781721554 ndn[0] 0.053630506864751605\n",
      "0.24999997810017419\n",
      "energy[0] -8.17892946552907 nup[0] 0.9463721483260801 ndn[0] 0.05362705625215775\n",
      "-0.24999997810017419\n",
      "energy[0] -7.285799680876956 nup[0] 0.9463742781721551 ndn[0] 0.05363050686475001\n",
      "0.2499999781001743\n",
      "energy[0] -8.178929465529084 nup[0] 0.946372148326076 ndn[0] 0.05362705625215767\n",
      "-0.24999997810017438\n",
      "energy[0] -7.285799680876959 nup[0] 0.9463742781721484 ndn[0] 0.05363050686475145\n",
      "0.24999997810017427\n",
      "energy[0] -8.178929465529073 nup[0] 0.9463721483260653 ndn[0] 0.05362705625215823\n",
      "-0.24999997810017432\n",
      "energy[0] -7.285799680876956 nup[0] 0.9463742781721559 ndn[0] 0.053630506864752826\n",
      "0.24999997810017444\n",
      "energy[0] -8.178929465529073 nup[0] 0.9463721483260813 ndn[0] 0.05362705625215814\n",
      "-0.24999997810017416\n",
      "energy[0] -7.285799680876959 nup[0] 0.9463742781721481 ndn[0] 0.05363050686475071\n",
      "0.24999997810017424\n",
      "energy[0] -8.17892946552907 nup[0] 0.9463721483260692 ndn[0] 0.05362705625215867\n",
      "-0.24999997810017435\n",
      "energy[0] -7.2857996808769485 nup[0] 0.9463742781721501 ndn[0] 0.05363050686475075\n",
      "0.24999997810017432\n",
      "energy[0] -8.178929465529077 nup[0] 0.9463721483260534 ndn[0] 0.05362705625215807\n",
      "-0.24999997810017438\n",
      "energy[0] -7.28579968087695 nup[0] 0.9463742781721541 ndn[0] 0.05363050686475348\n",
      "0.24999997810017438\n",
      "energy[0] -8.178929465529073 nup[0] 0.9463721483260847 ndn[0] 0.053627056252157745\n",
      "-0.2499999781001744\n",
      "energy[0] -7.285799680876959 nup[0] 0.9463742781721535 ndn[0] 0.05363050686475009\n",
      "0.24999997810017427\n",
      "energy[0] -8.178929465529063 nup[0] 0.9463721483260775 ndn[0] 0.05362705625215784\n",
      "-0.24999997810017424\n",
      "no convergence\n",
      "<n> = 0.87500000000796\n",
      "<sigma> = [ 8.92745092e-01 -8.92745092e-01  8.92745092e-01 -8.92745092e-01\n",
      "  8.92745092e-01 -8.92745092e-01  8.92745092e-01 -8.92745092e-01\n",
      " -8.92758024e-01  8.92758024e-01 -8.92758024e-01  8.92758024e-01\n",
      " -8.92758024e-01  8.92758024e-01 -8.92758024e-01  8.92758024e-01\n",
      "  8.91459177e-01 -8.91459177e-01  8.91459177e-01 -8.91459177e-01\n",
      "  8.91459177e-01 -8.91459177e-01  8.91459177e-01 -8.91459177e-01\n",
      " -9.04420055e-01  9.04420055e-01 -9.04420055e-01  9.04420055e-01\n",
      " -9.04420055e-01  9.04420055e-01 -9.04420055e-01  9.04420055e-01\n",
      "  3.29597460e-17  1.64798730e-16 -8.84708973e-17 -1.26634814e-16\n",
      " -1.75207071e-16  9.71445147e-17  9.19403442e-17  9.88792381e-17\n",
      "  9.04420055e-01 -9.04420055e-01  9.04420055e-01 -9.04420055e-01\n",
      "  9.04420055e-01 -9.04420055e-01  9.04420055e-01 -9.04420055e-01\n",
      " -8.91459177e-01  8.91459177e-01 -8.91459177e-01  8.91459177e-01\n",
      " -8.91459177e-01  8.91459177e-01 -8.91459177e-01  8.91459177e-01\n",
      "  8.92758024e-01 -8.92758024e-01  8.92758024e-01 -8.92758024e-01\n",
      "  8.92758024e-01 -8.92758024e-01  8.92758024e-01 -8.92758024e-01\n",
      " -8.92745092e-01  8.92745092e-01 -8.92745092e-01  8.92745092e-01\n",
      " -8.92745092e-01  8.92745092e-01 -8.92745092e-01  8.92745092e-01\n",
      "  8.92758024e-01 -8.92758024e-01  8.92758024e-01 -8.92758024e-01\n",
      "  8.92758024e-01 -8.92758024e-01  8.92758024e-01 -8.92758024e-01\n",
      " -8.91459177e-01  8.91459177e-01 -8.91459177e-01  8.91459177e-01\n",
      " -8.91459177e-01  8.91459177e-01 -8.91459177e-01  8.91459177e-01\n",
      "  9.04420055e-01 -9.04420055e-01  9.04420055e-01 -9.04420055e-01\n",
      "  9.04420055e-01 -9.04420055e-01  9.04420055e-01 -9.04420055e-01\n",
      " -1.35308431e-16  2.27248775e-16 -2.94902991e-17  1.70002901e-16\n",
      " -1.73472348e-17  9.88792381e-17 -9.71445147e-17  2.77555756e-17\n",
      " -9.04420055e-01  9.04420055e-01 -9.04420055e-01  9.04420055e-01\n",
      " -9.04420055e-01  9.04420055e-01 -9.04420055e-01  9.04420055e-01\n",
      "  8.91459177e-01 -8.91459177e-01  8.91459177e-01 -8.91459177e-01\n",
      "  8.91459177e-01 -8.91459177e-01  8.91459177e-01 -8.91459177e-01\n",
      " -8.92758024e-01  8.92758024e-01 -8.92758024e-01  8.92758024e-01\n",
      " -8.92758024e-01  8.92758024e-01 -8.92758024e-01  8.92758024e-01]\n"
     ]
    }
   ],
   "source": [
    "maxiter = 40\n",
    "nit = 0;\n",
    "while nit < maxiter:\n",
    "    eigvals,eigvecs = la.eigh(H)\n",
    "    #Take positive eigenvals and corresponding eigenvecs\n",
    "    Umat = eigvecs[:N,:] #first N rows\n",
    "    Vmat = eigvecs[N:,:] #last N rows\n",
    "    #plt.figure();\n",
    "    #plt.imshow(eigvecs)\n",
    "    \n",
    "    n_up = Make_Nup(eigvals,Umat);\n",
    "    n_dn = Make_Ndn(eigvals,Vmat);\n",
    "    n_new = n_up + n_dn;\n",
    "    print('energy[0]',eigvals[0],'nup[0]',n_up[0],'ndn[0]',n_dn[0])\n",
    "    sigma_new = n_up - n_dn; \n",
    "    Delta_new = Make_Delta_ij(Vd,eigvals,Umat,Vmat,beta);\n",
    "    #Delta_new = np.zeros((N,N),dtype=float)\n",
    "    #Delta_new[ilist,jlist] = Delta_full[ilist,jlist]\n",
    "    \n",
    "    change = la.norm(n_new-n),la.norm(sigma_new-sigma)\n",
    "    print(np.mean(n_new-n))\n",
    "    \n",
    "    if np.max(change) < 1e-3:\n",
    "        break\n",
    "    else:\n",
    "        Delta = Delta_new\n",
    "        n = n_new;\n",
    "        sigma = sigma_new\n",
    "        H = Build_H(Delta,n,sigma) \n",
    "    \n",
    "    nit +=1\n",
    "\n",
    "\n",
    "if nit >= maxiter:\n",
    "    print('no convergence')\n",
    "else:\n",
    "    print(f'converged after {nit} iterations')\n",
    "#plt.figure();\n",
    "#plt.imshow(Delta);\n",
    "#plt.title('Delta matrix');plt.colorbar()\n",
    "\n",
    "print(f'<n> = {np.mean(n)}')\n",
    "print(f'<sigma> = {sigma}')\n",
    "\n",
    "#Hamiltonian\n",
    "H = Build_H(Delta,n,sigma) \n",
    "#plt.figure();\n",
    "#plt.imshow(H);plt.colorbar()\n",
    "#plt.title(\"Hamiltonian\")\n",
    "\n",
    "#Diagonalize\n",
    "#eigvals,eigvecs = la.eigh(H)\n",
    "#print(f\"energies: {eigvals}\")\n",
    "\n",
    "#plt.figure();\n",
    "#plt.imshow(eigvecs);plt.colorbar()\n",
    "#plt.title('eigenvectors')\n"
   ]
  },
  {
   "cell_type": "code",
   "execution_count": 294,
   "metadata": {},
   "outputs": [
    {
     "name": "stdout",
     "output_type": "stream",
     "text": [
      "-8.178929465529063\n"
     ]
    },
    {
     "data": {
      "image/png": "[encoded data removed]",
      "text/plain": [
       "<Figure size 432x288 with 2 Axes>"
      ]
     },
     "metadata": {
      "needs_background": "light"
     },
     "output_type": "display_data"
    },
    {
     "data": {
      "image/png": "[encoded data removed]",
      "text/plain": [
       "<Figure size 432x288 with 2 Axes>"
      ]
     },
     "metadata": {
      "needs_background": "light"
     },
     "output_type": "display_data"
    },
    {
     "data": {
      "image/png": "[encoded data removed]",
      "text/plain": [
       "<Figure size 432x288 with 2 Axes>"
      ]
     },
     "metadata": {
      "needs_background": "light"
     },
     "output_type": "display_data"
    }
   ],
   "source": [
    "up_occ = np.zeros((Nx,Ny),dtype=float)\n",
    "down_occ = np.zeros((Nx,Ny),dtype=float)\n",
    "sigma_2d = np.zeros((Nx,Ny),dtype=float)\n",
    "print(eigvals[0])\n",
    "\n",
    "for ntotal in range(N):\n",
    "    x = ntotal % Nx;\n",
    "    y = ntotal // Nx;\n",
    "    up_occ[x,y] = n_up[ntotal]\n",
    "    down_occ[x,y] = n_dn[ntotal]\n",
    "    sigma_2d[x,y] = sigma_new[ntotal]\n",
    "\n",
    "plt.figure();plt.imshow(up_occ);\n",
    "plt.colorbar(fraction=0.046, pad=0.04);\n",
    "plt.title(r'$\\langle n_{i\\uparrow}\\rangle$')\n",
    "plt.xlabel('y')\n",
    "plt.ylabel('x')\n",
    "plt.figure();plt.imshow(down_occ);\n",
    "plt.colorbar(fraction=0.046, pad=0.04)\n",
    "plt.title(r'$\\langle n_{i\\downarrow}\\rangle$')\n",
    "plt.figure();plt.imshow(sigma_2d);\n",
    "plt.colorbar(fraction=0.046, pad=0.04)\n",
    "plt.title(r'spin density $\\langle \\sigma_i^z\\rangle$');"
   ]
  },
  {
   "cell_type": "markdown",
   "metadata": {},
   "source": [
    "the iteration procedure seems to be indifferent w.r.t. particle/hole symmetry, but the energy shows that 7/8 filling is more energetically favorable"
   ]
  },
  {
   "cell_type": "code",
   "execution_count": null,
   "metadata": {},
   "outputs": [],
   "source": []
  }
 ],
 "metadata": {
  "kernelspec": {
   "display_name": "Python 3",
   "language": "python",
   "name": "python3"
  },
  "language_info": {
   "codemirror_mode": {
    "name": "ipython",
    "version": 3
   },
   "file_extension": ".py",
   "mimetype": "text/x-python",
   "name": "python",
   "nbconvert_exporter": "python",
   "pygments_lexer": "ipython3",
   "version": "3.7.3"
  }
 },
 "nbformat": 4,
 "nbformat_minor": 2
}
