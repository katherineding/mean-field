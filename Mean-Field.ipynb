{
 "cells": [
  {
   "cell_type": "code",
   "execution_count": 1,
   "metadata": {},
   "outputs": [],
   "source": [
    "import numpy as np\n",
    "from scipy import linalg as la\n",
    "from scipy.sparse import coo_matrix\n",
    "from scipy.sparse.linalg import eigsh\n",
    "import matplotlib.pyplot as plt\n",
    "\n",
    "np.set_printoptions(precision=3)"
   ]
  },
  {
   "cell_type": "code",
   "execution_count": 2,
   "metadata": {},
   "outputs": [],
   "source": [
    "FT_SIZE = 14;\n",
    "plt.rc('font', size=FT_SIZE)\n",
    "plt.rc('xtick',labelsize=FT_SIZE)\n",
    "plt.rc('ytick',labelsize=FT_SIZE)"
   ]
  },
  {
   "cell_type": "markdown",
   "metadata": {},
   "source": [
    "# MODEL: Hubbard-Mean-Field (NN & NNN) on 2D square lattice, periodic B.C., zero spin domain S_z = (nup-ndn)/2 = 0. \n",
    "# Assume up and down electrons behave the same way - no spin coupling Zeeman term\n",
    "# Assume all numbers are real"
   ]
  },
  {
   "cell_type": "code",
   "execution_count": 3,
   "metadata": {},
   "outputs": [],
   "source": [
    "def makeHpMatrix(Nx,Ny,t,tp,mu,density,sigma):\n",
    "    '''Generate N-by-N H^+ matrix for 2D square Nx-by-Ny lattice, periodic bdy conditions.\n",
    "    Args:\n",
    "        t = NN hopping strength\n",
    "        tp = NNN hopping stength\n",
    "        mu = Chemical potential\n",
    "        Nx, Ny = Lattice dimensions\n",
    "        density = (N,) array of total electron density (up + dn)\n",
    "        sigma = (N,) array of z spin (nup - ndn)\n",
    "    Returns:\n",
    "        A shape (N,N) float numpy array, N = Nx*Ny. '''\n",
    "\n",
    "    # Initialize vectors of row and column indices, matrix data\n",
    "    i,j = np.empty(0,dtype=int), np.empty(0,dtype=int)\n",
    "    data = np.empty(0,dtype=float);\n",
    "    \n",
    "    #Look at each lattice pt, find nearest neighbors\n",
    "    for y in range(Ny):\n",
    "        for x in range(Nx):\n",
    "            #total index n\n",
    "            n = x + Nx*y;\n",
    "            #neighbors, with periodic B.C.\n",
    "            neighbors = [((x+1) % Nx,y),((x-1) % Nx,y),(x,(y+1) % Ny),(x,(y-1) % Ny)]\n",
    "            next_neighbors = [((x+1) % Nx,(y+1) % Ny),((x-1) % Nx,(y+1) % Ny),\n",
    "                              ((x+1) % Nx,(y-1) % Ny),((x-1) % Nx,(y-1) % Ny)]\n",
    "            #get total indices of nearest neighbors\n",
    "            for pt in neighbors: \n",
    "                i = np.append(i,pt[0]+ Nx*pt[1]);\n",
    "            data = np.append(data,(-t)*np.ones(len(neighbors),dtype=float))\n",
    "            #get total indices of next-nearest neighbors\n",
    "            for pt in next_neighbors: \n",
    "                i = np.append(i,pt[0]+ Nx*pt[1]);\n",
    "            data = np.append(data,(-tp)*np.ones(len(next_neighbors),dtype=float))\n",
    "            #everything stays in n-th column\n",
    "            j = np.append(j,n*np.ones(len(neighbors)+len(next_neighbors),dtype=int))\n",
    "            \n",
    "            #chemical potential contribes only to diagonal elements\n",
    "            #extra term from mean field\n",
    "            i = np.append(i,n);\n",
    "            j = np.append(j,n);\n",
    "            data = np.append(data,-mu + 0.5*U*(density[n]-sigma[n]))\n",
    "    \n",
    "    #Construction\n",
    "    matrix = coo_matrix((data, (i,j)),shape = (Nx*Ny,Nx*Ny))\n",
    "    return matrix"
   ]
  },
  {
   "cell_type": "code",
   "execution_count": 4,
   "metadata": {},
   "outputs": [],
   "source": [
    "def makeHmMatrix(Nx,Ny,t,tp,mu,density,sigma):\n",
    "    '''Generate H^- matrix for 2D square Nx-by-Ny lattice, periodic bdy conditions.\n",
    "    Args:\n",
    "        t = NN hopping strength\n",
    "        tp = NNN hopping stength\n",
    "        mu = Chemical potential\n",
    "        Nx, Ny = Lattice dimensions\n",
    "        density = (N,) array of total electron density (up + dn)\n",
    "        sigma = (N,) array of z spin (nup - ndn)\n",
    "    Returns:\n",
    "        A shape (N,N) float numpy array, N = Nx*Ny. '''\n",
    "\n",
    "    # Initialize vectors of row and column indices, matrix data\n",
    "    i,j = np.empty(0,dtype=int), np.empty(0,dtype=int)\n",
    "    data = np.empty(0,dtype=float);\n",
    "    \n",
    "    #Look at each lattice pt, find nearest neighbors\n",
    "    for y in range(Ny):\n",
    "        for x in range(Nx):\n",
    "            #total index n\n",
    "            n = x + Nx*y;\n",
    "            #neighbors, with periodic B.C.\n",
    "            neighbors = [((x+1) % Nx,y),((x-1) % Nx,y),(x,(y+1) % Ny),(x,(y-1) % Ny)]\n",
    "            next_neighbors = [((x+1) % Nx,(y+1) % Ny),((x-1) % Nx,(y+1) % Ny),\n",
    "                              ((x+1) % Nx,(y-1) % Ny),((x-1) % Nx,(y-1) % Ny)]\n",
    "            #get total indices of nearest neighbors\n",
    "            for pt in neighbors: \n",
    "                i = np.append(i,pt[0]+ Nx*pt[1]);\n",
    "            data = np.append(data,(-t)*np.ones(len(neighbors),dtype=float))\n",
    "            #get total indices of next-nearest neighbors\n",
    "            for pt in next_neighbors: \n",
    "                i = np.append(i,pt[0]+ Nx*pt[1]);\n",
    "            data = np.append(data,(-tp)*np.ones(len(next_neighbors),dtype=float))\n",
    "            #everything stays in n-th column\n",
    "            j = np.append(j,n*np.ones(len(neighbors)+len(next_neighbors),dtype=int))\n",
    "            \n",
    "            #chemical potential contribes only to diagonal elements\n",
    "            #extra term from mean field\n",
    "            i = np.append(i,n);\n",
    "            j = np.append(j,n);\n",
    "            data = np.append(data,-mu + 0.5*U*(density[n]+sigma[n]))\n",
    "    \n",
    "    #Construction\n",
    "    matrix = coo_matrix((data, (i,j)),shape = (Nx*Ny,Nx*Ny))\n",
    "    return matrix"
   ]
  },
  {
   "cell_type": "code",
   "execution_count": 5,
   "metadata": {},
   "outputs": [],
   "source": [
    "def initDeltaMatrix(Nx,Ny,Vd):\n",
    "    '''Initialize Delta matrix\n",
    "    Args:\n",
    "        Nx, Ny: dimensions of Lattice\n",
    "        Vd: attractive pairing interaction strength\n",
    "    \n",
    "    Returns:\n",
    "        A shape (N,N) float numpy array, N = Nx*Ny.\n",
    "    '''\n",
    "    # Initialize vectors of row and column indices, matrix data\n",
    "    i,j = np.empty(0,dtype=int), np.empty(0,dtype=int);\n",
    "    data = np.empty(0,dtype=float);\n",
    "    \n",
    "    #Look at each lattice pt, find nearest neighbors\n",
    "    for y in range(Ny):\n",
    "        for x in range(Nx):\n",
    "            #total index n\n",
    "            n = x + Nx*y;\n",
    "            #neighbors, with periodic B.C.\n",
    "            neighbors = [((x+1) % Nx,y),((x-1) % Nx,y),(x,(y+1) % Ny),(x,(y-1) % Ny)]\n",
    "            #get total indices of nearest neighbors\n",
    "            for pt in neighbors: \n",
    "                i = np.append(i,pt[0]+ Nx*pt[1]);\n",
    "            data = np.append(data,(-Vd)*np.ones(len(neighbors),dtype=float))\n",
    "            #get total indices of next-nearest neighbors\n",
    "            #everything stays in n-th column\n",
    "            j = np.append(j,n*np.ones(len(neighbors),dtype=int))\n",
    "    \n",
    "    #Construction\n",
    "    return coo_matrix((data, (i,j)),shape = (Nx*Ny,Nx*Ny)).toarray(),i,j"
   ]
  },
  {
   "cell_type": "code",
   "execution_count": 6,
   "metadata": {},
   "outputs": [],
   "source": [
    "def Build_H(Delta,n,sigma):\n",
    "    '''Create 2N by 2N matrix to diagonalize.\n",
    "    Args:\n",
    "        Delta: (N,N) np array\n",
    "        n: (N,) np array\n",
    "        sigma: (N,) np array\n",
    "        \n",
    "    Returns:\n",
    "        (2N,2N) np array\n",
    "    '''\n",
    "    H = np.empty((2*N,2*N),dtype=float)\n",
    "    #(0,0) block\n",
    "    Hp = makeHpMatrix(Nx,Ny,t,tp,mu,n,sigma);\n",
    "    #(1,1) block\n",
    "    Hm = makeHmMatrix(Nx,Ny,t,tp,mu,n,sigma);\n",
    "    \n",
    "    #row1 = hstack((Hp,Delta));\n",
    "    #row2 = hstack((Delta.conj(),-Hm.conj()))\n",
    "    #H = vstack((row1,row2))\n",
    "    \n",
    "    #set blocks of total hamiltonian matrix\n",
    "    H[:N,:N] = Hp.toarray()\n",
    "    H[N:,N:] = -Hm.toarray().conj();\n",
    "    H[:N,N:] = Delta;\n",
    "    H[N:,:N] = Delta.conj()\n",
    "    return H"
   ]
  },
  {
   "cell_type": "code",
   "execution_count": 7,
   "metadata": {},
   "outputs": [],
   "source": [
    "def Fermi_Dist(E,beta):\n",
    "    '''Fermion occupation function'''\n",
    "    return 1/(1+np.exp(beta*E))"
   ]
  },
  {
   "cell_type": "code",
   "execution_count": 8,
   "metadata": {},
   "outputs": [],
   "source": [
    "def Make_Delta_ij(Vd, E, Umat, Vmat, beta):\n",
    "    '''Eq A.12 update Delta matrix based on current eigenvalues\n",
    "    But this always just ends up being zero?\n",
    "    Args:\n",
    "        Vd: attractive pairing interaction strength\n",
    "        E: (2N,) array\n",
    "        Umat: (N,2N) array, each col is an eigenvec u\n",
    "        Vmat: (N,2N) array, each col is an eigenvec v\n",
    "        beta: inverse temperature\n",
    "    \n",
    "    '''\n",
    "    #assert 2*N == E.shape[0] #use all energies\n",
    "    #assert Umat.shape == Vmat.shape == (N,2*N) #\n",
    "    \n",
    "    energy_term = np.tanh(0.5*beta*E)\n",
    "    accum = np.zeros((N,N),dtype=float);\n",
    "    for n in range(E.shape[0]):\n",
    "        accum += (np.outer(Umat[:,n],Vmat[:,n]) +\\\n",
    "                    np.outer(Vmat[:,n],Umat[:,n])) * energy_term[n] * Vd/4\n",
    "    \n",
    "    #print(energy_term)\n",
    "    #delta = np.zeros((N,N))\n",
    "    #for pt in range(len(ilist)):\n",
    "        #i = ilist[pt]\n",
    "        #j = jlist[pt]\n",
    "        #for n in range(2*N):\n",
    "            #print(Umat[i,n]*Vmat[j,n]+ Umat[j,n]*Vmat[i,n])\n",
    "            #delta[i,j] += (Umat[i,n]*Vmat[j,n]+ Umat[j,n]*Vmat[i,n])*energy_term[n]*Vd/4\n",
    "\n",
    "    return accum"
   ]
  },
  {
   "cell_type": "code",
   "execution_count": 9,
   "metadata": {},
   "outputs": [
    {
     "ename": "NameError",
     "evalue": "name 'Vd' is not defined",
     "output_type": "error",
     "traceback": [
      "\u001b[0;31m---------------------------------------------------------------------------\u001b[0m",
      "\u001b[0;31mNameError\u001b[0m                                 Traceback (most recent call last)",
      "\u001b[0;32m<ipython-input-9-1f1cd6e6b3bd>\u001b[0m in \u001b[0;36m<module>\u001b[0;34m\u001b[0m\n\u001b[0;32m----> 1\u001b[0;31m \u001b[0ma\u001b[0m \u001b[0;34m=\u001b[0m \u001b[0mMake_Delta_ij\u001b[0m\u001b[0;34m(\u001b[0m\u001b[0mVd\u001b[0m\u001b[0;34m,\u001b[0m\u001b[0meigvals\u001b[0m\u001b[0;34m,\u001b[0m\u001b[0mUmat\u001b[0m\u001b[0;34m,\u001b[0m\u001b[0mVmat\u001b[0m\u001b[0;34m,\u001b[0m\u001b[0mbeta\u001b[0m\u001b[0;34m)\u001b[0m\u001b[0;34m\u001b[0m\u001b[0;34m\u001b[0m\u001b[0m\n\u001b[0m",
      "\u001b[0;31mNameError\u001b[0m: name 'Vd' is not defined"
     ]
    }
   ],
   "source": [
    "a = Make_Delta_ij(Vd,eigvals,Umat,Vmat,beta)"
   ]
  },
  {
   "cell_type": "code",
   "execution_count": 10,
   "metadata": {},
   "outputs": [],
   "source": [
    "def Make_Nup(E,Umat):\n",
    "    '''Get <n_i,up> from eigenvectors and eigenvalues'''\n",
    "    return np.sum((Umat**2) * Fermi_Dist(E,beta),axis=1)"
   ]
  },
  {
   "cell_type": "code",
   "execution_count": 11,
   "metadata": {},
   "outputs": [],
   "source": [
    "def Make_Ndn(E,Vmat):\n",
    "    '''Get <n_i,dn> from eigenvectors and eigenvalues'''\n",
    "    return np.sum((Vmat**2) * (1-Fermi_Dist(E,beta)),axis=1)"
   ]
  },
  {
   "cell_type": "markdown",
   "metadata": {},
   "source": [
    "## Test for specific set of parameters"
   ]
  },
  {
   "cell_type": "code",
   "execution_count": 12,
   "metadata": {},
   "outputs": [],
   "source": [
    "t = 1 #NN hopping\n",
    "tp = -0.4*t #NNN hopping\n",
    "Vd = 1.34*t #attractive pairing interaction strength\n",
    "Nx = 8; #lattice size\n",
    "Ny = 16;\n",
    "N = Nx*Ny; #total number of lattice sites\n",
    "filling = 7/8 #hole doped\n",
    "U = 8; #onsite repulsion is pretty large\n",
    "mu = 0.5*U*filling; #chemical potential \n",
    "beta = 10;"
   ]
  },
  {
   "cell_type": "code",
   "execution_count": 13,
   "metadata": {},
   "outputs": [
    {
     "name": "stdout",
     "output_type": "stream",
     "text": [
      "init <n> = [0.875 0.875 0.875 0.875 0.875 0.875 0.875 0.875 0.875 0.875 0.875 0.875\n",
      " 0.875 0.875 0.875 0.875 0.875 0.875 0.875 0.875 0.875 0.875 0.875 0.875\n",
      " 0.875 0.875 0.875 0.875 0.875 0.875 0.875 0.875 0.875 0.875 0.875 0.875\n",
      " 0.875 0.875 0.875 0.875 0.875 0.875 0.875 0.875 0.875 0.875 0.875 0.875\n",
      " 0.875 0.875 0.875 0.875 0.875 0.875 0.875 0.875 0.875 0.875 0.875 0.875\n",
      " 0.875 0.875 0.875 0.875 0.875 0.875 0.875 0.875 0.875 0.875 0.875 0.875\n",
      " 0.875 0.875 0.875 0.875 0.875 0.875 0.875 0.875 0.875 0.875 0.875 0.875\n",
      " 0.875 0.875 0.875 0.875 0.875 0.875 0.875 0.875 0.875 0.875 0.875 0.875\n",
      " 0.875 0.875 0.875 0.875 0.875 0.875 0.875 0.875 0.875 0.875 0.875 0.875\n",
      " 0.875 0.875 0.875 0.875 0.875 0.875 0.875 0.875 0.875 0.875 0.875 0.875\n",
      " 0.875 0.875 0.875 0.875 0.875 0.875 0.875 0.875]\n",
      "init <sigma> = [ 2.000e-01 -2.000e-01  2.000e-01 -2.000e-01  2.000e-01 -2.000e-01\n",
      "  2.000e-01 -2.000e-01 -1.848e-01  1.848e-01 -1.848e-01  1.848e-01\n",
      " -1.848e-01  1.848e-01 -1.848e-01  1.848e-01  1.414e-01 -1.414e-01\n",
      "  1.414e-01 -1.414e-01  1.414e-01 -1.414e-01  1.414e-01 -1.414e-01\n",
      " -7.654e-02  7.654e-02 -7.654e-02  7.654e-02 -7.654e-02  7.654e-02\n",
      " -7.654e-02  7.654e-02  1.225e-17 -1.225e-17  1.225e-17 -1.225e-17\n",
      "  1.225e-17 -1.225e-17  1.225e-17 -1.225e-17  7.654e-02 -7.654e-02\n",
      "  7.654e-02 -7.654e-02  7.654e-02 -7.654e-02  7.654e-02 -7.654e-02\n",
      " -1.414e-01  1.414e-01 -1.414e-01  1.414e-01 -1.414e-01  1.414e-01\n",
      " -1.414e-01  1.414e-01  1.848e-01 -1.848e-01  1.848e-01 -1.848e-01\n",
      "  1.848e-01 -1.848e-01  1.848e-01 -1.848e-01 -2.000e-01  2.000e-01\n",
      " -2.000e-01  2.000e-01 -2.000e-01  2.000e-01 -2.000e-01  2.000e-01\n",
      "  1.848e-01 -1.848e-01  1.848e-01 -1.848e-01  1.848e-01 -1.848e-01\n",
      "  1.848e-01 -1.848e-01 -1.414e-01  1.414e-01 -1.414e-01  1.414e-01\n",
      " -1.414e-01  1.414e-01 -1.414e-01  1.414e-01  7.654e-02 -7.654e-02\n",
      "  7.654e-02 -7.654e-02  7.654e-02 -7.654e-02  7.654e-02 -7.654e-02\n",
      " -3.674e-17  3.674e-17 -3.674e-17  3.674e-17 -3.674e-17  3.674e-17\n",
      " -3.674e-17  3.674e-17 -7.654e-02  7.654e-02 -7.654e-02  7.654e-02\n",
      " -7.654e-02  7.654e-02 -7.654e-02  7.654e-02  1.414e-01 -1.414e-01\n",
      "  1.414e-01 -1.414e-01  1.414e-01 -1.414e-01  1.414e-01 -1.414e-01\n",
      " -1.848e-01  1.848e-01 -1.848e-01  1.848e-01 -1.848e-01  1.848e-01\n",
      " -1.848e-01  1.848e-01]\n"
     ]
    }
   ],
   "source": [
    "#initialize parameters\n",
    "sigma = np.zeros(N,dtype=float)\n",
    "n = np.zeros(N,dtype=float) \n",
    "for x in range(Nx):\n",
    "    for y in range(Ny):\n",
    "        #total index n\n",
    "        ntotal = x + Nx*y;\n",
    "        n[ntotal] = filling\n",
    "        sigma[ntotal] = 0.2*np.cos(np.pi*y/8)*(-1)**(x+y)\n",
    "\n",
    "\n",
    "Delta,ilist,jlist = initDeltaMatrix(Nx,Ny,Vd)\n",
    "H = Build_H(Delta,n,sigma) \n",
    "\n",
    "#note sure how to handle delta matrix\n",
    "#plt.figure();\n",
    "#plt.imshow(Delta);\n",
    "#plt.title('init Delta matrix');plt.colorbar()\n",
    "\n",
    "print(f'init <n> = {n}')\n",
    "print(f'init <sigma> = {sigma}')\n",
    "#plt.figure();\n",
    "\n",
    "#Hamiltonian\n",
    "#plt.figure();\n",
    "#plt.imshow(H);plt.colorbar()\n",
    "#plt.title(\"Init Hamiltonian\")\n",
    "#eigvals,eigvecs = la.eigh(H)\n",
    "#plt.figure();\n",
    "#plt.imshow(eigvecs)\n",
    "#plt.colorbar();\n",
    "#plt.title('init eigenvectors')"
   ]
  },
  {
   "cell_type": "code",
   "execution_count": 14,
   "metadata": {},
   "outputs": [
    {
     "name": "stdout",
     "output_type": "stream",
     "text": [
      "iter 0 \t lowest energy = -7.780378478648847\n",
      "iter 1 \t lowest energy = -6.904729461981941\n",
      "iter 2 \t lowest energy = -5.963073055990836\n",
      "iter 3 \t lowest energy = -7.410483045589504\n",
      "iter 4 \t lowest energy = -7.179909509811368\n",
      "iter 5 \t lowest energy = -8.116925857768214\n",
      "iter 6 \t lowest energy = -7.281278981056698\n",
      "iter 7 \t lowest energy = -8.177033963876724\n",
      "iter 8 \t lowest energy = -7.285642940927094\n",
      "iter 9 \t lowest energy = -8.17887130548522\n",
      "iter 10 \t lowest energy = -7.285794409297036\n",
      "iter 11 \t lowest energy = -8.178927661670777\n",
      "iter 12 \t lowest energy = -7.285799505926599\n",
      "iter 13 \t lowest energy = -8.17892940925444\n",
      "iter 14 \t lowest energy = -7.28579967512365\n",
      "iter 15 \t lowest energy = -8.178929463766867\n",
      "iter 16 \t lowest energy = -7.285799680689053\n",
      "iter 17 \t lowest energy = -8.178929465473736\n",
      "iter 18 \t lowest energy = -7.285799680870838\n",
      "no convergence\n",
      "iter 19 \t lowest energy = -8.178929465527343\n",
      "<n> = 0.8750000000079601\n",
      "<sigma> = [ 8.927e-01 -8.927e-01  8.927e-01 -8.927e-01  8.927e-01 -8.927e-01\n",
      "  8.927e-01 -8.927e-01 -8.928e-01  8.928e-01 -8.928e-01  8.928e-01\n",
      " -8.928e-01  8.928e-01 -8.928e-01  8.928e-01  8.915e-01 -8.915e-01\n",
      "  8.915e-01 -8.915e-01  8.915e-01 -8.915e-01  8.915e-01 -8.915e-01\n",
      " -9.044e-01  9.044e-01 -9.044e-01  9.044e-01 -9.044e-01  9.044e-01\n",
      " -9.044e-01  9.044e-01 -7.980e-17 -3.469e-18 -5.204e-17  3.469e-17\n",
      " -2.255e-17 -7.112e-17 -3.296e-17  5.031e-17  9.044e-01 -9.044e-01\n",
      "  9.044e-01 -9.044e-01  9.044e-01 -9.044e-01  9.044e-01 -9.044e-01\n",
      " -8.915e-01  8.915e-01 -8.915e-01  8.915e-01 -8.915e-01  8.915e-01\n",
      " -8.915e-01  8.915e-01  8.928e-01 -8.928e-01  8.928e-01 -8.928e-01\n",
      "  8.928e-01 -8.928e-01  8.928e-01 -8.928e-01 -8.927e-01  8.927e-01\n",
      " -8.927e-01  8.927e-01 -8.927e-01  8.927e-01 -8.927e-01  8.927e-01\n",
      "  8.928e-01 -8.928e-01  8.928e-01 -8.928e-01  8.928e-01 -8.928e-01\n",
      "  8.928e-01 -8.928e-01 -8.915e-01  8.915e-01 -8.915e-01  8.915e-01\n",
      " -8.915e-01  8.915e-01 -8.915e-01  8.915e-01  9.044e-01 -9.044e-01\n",
      "  9.044e-01 -9.044e-01  9.044e-01 -9.044e-01  9.044e-01 -9.044e-01\n",
      " -7.806e-17 -2.602e-17  6.072e-17 -1.735e-18  1.561e-17  3.469e-17\n",
      "  5.551e-17  3.643e-17 -9.044e-01  9.044e-01 -9.044e-01  9.044e-01\n",
      " -9.044e-01  9.044e-01 -9.044e-01  9.044e-01  8.915e-01 -8.915e-01\n",
      "  8.915e-01 -8.915e-01  8.915e-01 -8.915e-01  8.915e-01 -8.915e-01\n",
      " -8.928e-01  8.928e-01 -8.928e-01  8.928e-01 -8.928e-01  8.928e-01\n",
      " -8.928e-01  8.928e-01]\n"
     ]
    },
    {
     "data": {
      "image/png": "[encoded data removed]",
      "text/plain": [
       "<Figure size 432x288 with 2 Axes>"
      ]
     },
     "metadata": {
      "needs_background": "light"
     },
     "output_type": "display_data"
    }
   ],
   "source": [
    "maxiter = 19\n",
    "nit = 0;\n",
    "while nit < maxiter:\n",
    "    eigvals,eigvecs = la.eigh(H)\n",
    "    #Take positive eigenvals and corresponding eigenvecs\n",
    "    Umat = eigvecs[:N,:] #first N rows\n",
    "    Vmat = eigvecs[N:,:] #last N rows\n",
    "    #plt.figure();\n",
    "    #plt.imshow(eigvecs)\n",
    "    \n",
    "    n_up = Make_Nup(eigvals,Umat);\n",
    "    n_dn = Make_Ndn(eigvals,Vmat);\n",
    "    n_new = n_up + n_dn;\n",
    "    print(f'iter {nit} \\t lowest energy = {eigvals[0]}')\n",
    "    sigma_new = n_up - n_dn; \n",
    "    Delta_full = Make_Delta_ij(Vd,eigvals,Umat,Vmat,beta);\n",
    "    Delta_new = np.zeros((N,N),dtype=float)\n",
    "    Delta_new[ilist,jlist] = Delta_full[ilist,jlist]\n",
    "    \n",
    "    change = la.norm(n_new-n),la.norm(sigma_new-sigma)\n",
    "    \n",
    "    if np.max(change) < 1e-3:\n",
    "        break\n",
    "    else:\n",
    "        Delta = Delta_new\n",
    "        n = n_new;\n",
    "        #print(n)\n",
    "        sigma = sigma_new\n",
    "        H = Build_H(Delta,n,sigma) \n",
    "    \n",
    "    nit +=1\n",
    "\n",
    "\n",
    "if nit >= maxiter:\n",
    "    print('no convergence')\n",
    "else:\n",
    "    print(f'converged after {nit} iterations')\n",
    "\n",
    "\n",
    "\n",
    "#Hamiltonian\n",
    "H = Build_H(Delta,n,sigma) \n",
    "eigvals,eigvecs = la.eigh(H)\n",
    "#Take positive eigenvals and corresponding eigenvecs\n",
    "Umat = eigvecs[:N,:] #first N rows\n",
    "Vmat = eigvecs[N:,:] #last N rows\n",
    "#plt.figure();\n",
    "#plt.imshow(eigvecs)\n",
    "\n",
    "n_up = Make_Nup(eigvals,Umat);\n",
    "n_dn = Make_Ndn(eigvals,Vmat);\n",
    "n = n_up + n_dn;\n",
    "print(f'iter {nit} \\t lowest energy = {eigvals[0]}')\n",
    "sigma = n_up - n_dn; \n",
    "Delta = Make_Delta_ij(Vd,eigvals,Umat,Vmat,beta);\n",
    "\n",
    "plt.figure();\n",
    "plt.imshow(Delta);\n",
    "plt.title('Delta matrix');plt.colorbar()\n",
    "\n",
    "print(f'<n> = {np.mean(n)}')\n",
    "print(f'<sigma> = {sigma}')\n",
    "\n",
    "#plt.figure();\n",
    "#plt.imshow(H);plt.colorbar()\n",
    "#plt.title(\"Hamiltonian\")\n",
    "\n",
    "#Diagonalize\n",
    "#eigvals,eigvecs = la.eigh(H)\n",
    "#print(f\"energies: {eigvals}\")\n",
    "\n",
    "#plt.figure();\n",
    "#plt.imshow(eigvecs);plt.colorbar()\n",
    "#plt.title('eigenvectors')\n"
   ]
  },
  {
   "cell_type": "code",
   "execution_count": 15,
   "metadata": {},
   "outputs": [
    {
     "data": {
      "text/plain": [
       "Text(0, 0.5, 'x')"
      ]
     },
     "execution_count": 15,
     "metadata": {},
     "output_type": "execute_result"
    },
    {
     "data": {
      "image/png": "[encoded data removed]",
      "text/plain": [
       "<Figure size 432x288 with 2 Axes>"
      ]
     },
     "metadata": {
      "needs_background": "light"
     },
     "output_type": "display_data"
    },
    {
     "data": {
      "image/png": "[encoded data removed]",
      "text/plain": [
       "<Figure size 432x288 with 2 Axes>"
      ]
     },
     "metadata": {
      "needs_background": "light"
     },
     "output_type": "display_data"
    },
    {
     "data": {
      "image/png": "[encoded data removed]",
      "text/plain": [
       "<Figure size 432x288 with 2 Axes>"
      ]
     },
     "metadata": {
      "needs_background": "light"
     },
     "output_type": "display_data"
    }
   ],
   "source": [
    "up_occ = np.zeros((Nx,Ny),dtype=float)\n",
    "down_occ = np.zeros((Nx,Ny),dtype=float)\n",
    "sigma_2d = np.zeros((Nx,Ny),dtype=float)\n",
    "\n",
    "for ntotal in range(N):\n",
    "    x = ntotal % Nx;\n",
    "    y = ntotal // Nx;\n",
    "    up_occ[x,y] = n_up[ntotal]\n",
    "    down_occ[x,y] = n_dn[ntotal]\n",
    "    sigma_2d[x,y] = sigma_new[ntotal] *(-1)**(x+y+1)\n",
    "\n",
    "plt.figure();plt.imshow(up_occ);\n",
    "plt.colorbar(fraction=0.046, pad=0.04);\n",
    "plt.title(r'$\\langle n_{i\\uparrow}\\rangle$')\n",
    "plt.xlabel('y')\n",
    "plt.ylabel('x')\n",
    "plt.figure();plt.imshow(down_occ);\n",
    "plt.colorbar(fraction=0.046, pad=0.04)\n",
    "plt.title(r'$\\langle n_{i\\downarrow}\\rangle$')\n",
    "plt.xlabel('y')\n",
    "plt.ylabel('x')\n",
    "plt.figure();plt.imshow(sigma_2d);\n",
    "plt.colorbar(fraction=0.046, pad=0.04)\n",
    "plt.title(r'spin density $\\langle \\sigma_i^z\\rangle$');\n",
    "plt.xlabel('y')\n",
    "plt.ylabel('x')"
   ]
  },
  {
   "cell_type": "markdown",
   "metadata": {},
   "source": [
    "The iteration procedure seems to be indifferent w.r.t. particle/hole symmetry, but the energy shows that 7/8 filling is more energetically favorable. Result strongly depends on spin initialization, since it seeds how stripes are distributed. This iteration procedure is susceptable to falling into local minima, hence the initialization dependence. Also did not enforce filling level, just let things run and see where they end up"
   ]
  },
  {
   "cell_type": "markdown",
   "metadata": {},
   "source": [
    "See notes.md for more information"
   ]
  },
  {
   "cell_type": "code",
   "execution_count": null,
   "metadata": {},
   "outputs": [],
   "source": []
  }
 ],
 "metadata": {
  "kernelspec": {
   "display_name": "Python 3",
   "language": "python",
   "name": "python3"
  },
  "language_info": {
   "codemirror_mode": {
    "name": "ipython",
    "version": 3
   },
   "file_extension": ".py",
   "mimetype": "text/x-python",
   "name": "python",
   "nbconvert_exporter": "python",
   "pygments_lexer": "ipython3",
   "version": "3.7.3"
  }
 },
 "nbformat": 4,
 "nbformat_minor": 2
}
